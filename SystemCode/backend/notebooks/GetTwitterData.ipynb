{
 "cells": [
  {
   "cell_type": "markdown",
   "metadata": {
    "colab_type": "text",
    "id": "ae0omQQqFstZ"
   },
   "source": [
    "# Web scraper for Twitter Data"
   ]
  },
  {
   "cell_type": "markdown",
   "metadata": {
    "colab_type": "text",
    "id": "CR1oxueIh1GR"
   },
   "source": [
    "## Install dependencies"
   ]
  },
  {
   "cell_type": "code",
   "execution_count": 1,
   "metadata": {
    "colab": {
     "base_uri": "https://localhost:8080/",
     "height": 34
    },
    "colab_type": "code",
    "executionInfo": {
     "elapsed": 3107,
     "status": "ok",
     "timestamp": 1586153608935,
     "user": {
      "displayName": "Edmund Leow",
      "photoUrl": "https://lh3.googleusercontent.com/a-/AOh14Gh_HoCvN4oQ-ZDVKbdVNE6D644AKure9xRaqmQryA=s64",
      "userId": "07683038191893357409"
     },
     "user_tz": -480
    },
    "id": "f1cpMaE4WcDb",
    "outputId": "a6208ec6-5733-4842-bcf3-e547283aa009"
   },
   "outputs": [
    {
     "data": {
      "text/plain": [
       "'/content'"
      ]
     },
     "execution_count": 1,
     "metadata": {
      "tags": []
     },
     "output_type": "execute_result"
    }
   ],
   "source": [
    "import os\n",
    "os.getcwd()"
   ]
  },
  {
   "cell_type": "code",
   "execution_count": 2,
   "metadata": {
    "colab": {
     "base_uri": "https://localhost:8080/",
     "height": 266
    },
    "colab_type": "code",
    "executionInfo": {
     "elapsed": 15789,
     "status": "ok",
     "timestamp": 1586153621627,
     "user": {
      "displayName": "Edmund Leow",
      "photoUrl": "https://lh3.googleusercontent.com/a-/AOh14Gh_HoCvN4oQ-ZDVKbdVNE6D644AKure9xRaqmQryA=s64",
      "userId": "07683038191893357409"
     },
     "user_tz": -480
    },
    "id": "5Lxep12ST-pa",
    "outputId": "d857ba28-01f2-4fac-fadb-b735026867f5"
   },
   "outputs": [
    {
     "name": "stdout",
     "output_type": "stream",
     "text": [
      "Cloning into 'Twitter-Get-Old-Tweets-Scraper'...\n",
      "remote: Enumerating objects: 5, done.\u001b[K\n",
      "remote: Counting objects:  20% (1/5)\u001b[K\r",
      "remote: Counting objects:  40% (2/5)\u001b[K\r",
      "remote: Counting objects:  60% (3/5)\u001b[K\r",
      "remote: Counting objects:  80% (4/5)\u001b[K\r",
      "remote: Counting objects: 100% (5/5)\u001b[K\r",
      "remote: Counting objects: 100% (5/5), done.\u001b[K\n",
      "remote: Compressing objects:  20% (1/5)\u001b[K\r",
      "remote: Compressing objects:  40% (2/5)\u001b[K\r",
      "remote: Compressing objects:  60% (3/5)\u001b[K\r",
      "remote: Compressing objects:  80% (4/5)\u001b[K\r",
      "remote: Compressing objects: 100% (5/5)\u001b[K\r",
      "remote: Compressing objects: 100% (5/5), done.\u001b[K\n",
      "Unpacking objects:   1% (1/91)   \r",
      "Unpacking objects:   2% (2/91)   \r",
      "Unpacking objects:   3% (3/91)   \r",
      "Unpacking objects:   4% (4/91)   \r",
      "Unpacking objects:   5% (5/91)   \r",
      "Unpacking objects:   6% (6/91)   \r",
      "Unpacking objects:   7% (7/91)   \r",
      "remote: Total 91 (delta 0), reused 1 (delta 0), pack-reused 86\u001b[K\n",
      "Unpacking objects:   8% (8/91)   \r",
      "Unpacking objects:   9% (9/91)   \r",
      "Unpacking objects:  10% (10/91)   \r",
      "Unpacking objects:  12% (11/91)   \r",
      "Unpacking objects:  13% (12/91)   \r",
      "Unpacking objects:  14% (13/91)   \r",
      "Unpacking objects:  15% (14/91)   \r",
      "Unpacking objects:  16% (15/91)   \r",
      "Unpacking objects:  17% (16/91)   \r",
      "Unpacking objects:  18% (17/91)   \r",
      "Unpacking objects:  19% (18/91)   \r",
      "Unpacking objects:  20% (19/91)   \r",
      "Unpacking objects:  21% (20/91)   \r",
      "Unpacking objects:  23% (21/91)   \r",
      "Unpacking objects:  24% (22/91)   \r",
      "Unpacking objects:  25% (23/91)   \r",
      "Unpacking objects:  26% (24/91)   \r",
      "Unpacking objects:  27% (25/91)   \r",
      "Unpacking objects:  28% (26/91)   \r",
      "Unpacking objects:  29% (27/91)   \r",
      "Unpacking objects:  30% (28/91)   \r",
      "Unpacking objects:  31% (29/91)   \r",
      "Unpacking objects:  32% (30/91)   \r",
      "Unpacking objects:  34% (31/91)   \r",
      "Unpacking objects:  35% (32/91)   \r",
      "Unpacking objects:  36% (33/91)   \r",
      "Unpacking objects:  37% (34/91)   \r",
      "Unpacking objects:  38% (35/91)   \r",
      "Unpacking objects:  39% (36/91)   \r",
      "Unpacking objects:  40% (37/91)   \r",
      "Unpacking objects:  41% (38/91)   \r",
      "Unpacking objects:  42% (39/91)   \r",
      "Unpacking objects:  43% (40/91)   \r",
      "Unpacking objects:  45% (41/91)   \r",
      "Unpacking objects:  46% (42/91)   \r",
      "Unpacking objects:  47% (43/91)   \r",
      "Unpacking objects:  48% (44/91)   \r",
      "Unpacking objects:  49% (45/91)   \r",
      "Unpacking objects:  50% (46/91)   \r",
      "Unpacking objects:  51% (47/91)   \r",
      "Unpacking objects:  52% (48/91)   \r",
      "Unpacking objects:  53% (49/91)   \r",
      "Unpacking objects:  54% (50/91)   \r",
      "Unpacking objects:  56% (51/91)   \r",
      "Unpacking objects:  57% (52/91)   \r",
      "Unpacking objects:  58% (53/91)   \r",
      "Unpacking objects:  59% (54/91)   \r",
      "Unpacking objects:  60% (55/91)   \r",
      "Unpacking objects:  61% (56/91)   \r",
      "Unpacking objects:  62% (57/91)   \r",
      "Unpacking objects:  63% (58/91)   \r",
      "Unpacking objects:  64% (59/91)   \r",
      "Unpacking objects:  65% (60/91)   \r",
      "Unpacking objects:  67% (61/91)   \r",
      "Unpacking objects:  68% (62/91)   \r",
      "Unpacking objects:  69% (63/91)   \r",
      "Unpacking objects:  70% (64/91)   \r",
      "Unpacking objects:  71% (65/91)   \r",
      "Unpacking objects:  72% (66/91)   \r",
      "Unpacking objects:  73% (67/91)   \r",
      "Unpacking objects:  74% (68/91)   \r",
      "Unpacking objects:  75% (69/91)   \r",
      "Unpacking objects:  76% (70/91)   \r",
      "Unpacking objects:  78% (71/91)   \r",
      "Unpacking objects:  79% (72/91)   \r",
      "Unpacking objects:  80% (73/91)   \r",
      "Unpacking objects:  81% (74/91)   \r",
      "Unpacking objects:  82% (75/91)   \r",
      "Unpacking objects:  83% (76/91)   \r",
      "Unpacking objects:  84% (77/91)   \r",
      "Unpacking objects:  85% (78/91)   \r",
      "Unpacking objects:  86% (79/91)   \r",
      "Unpacking objects:  87% (80/91)   \r",
      "Unpacking objects:  89% (81/91)   \r",
      "Unpacking objects:  90% (82/91)   \r",
      "Unpacking objects:  91% (83/91)   \r",
      "Unpacking objects:  92% (84/91)   \r",
      "Unpacking objects:  93% (85/91)   \r",
      "Unpacking objects:  94% (86/91)   \r",
      "Unpacking objects:  95% (87/91)   \r",
      "Unpacking objects:  96% (88/91)   \r",
      "Unpacking objects:  97% (89/91)   \r",
      "Unpacking objects:  98% (90/91)   \r",
      "Unpacking objects: 100% (91/91)   \r",
      "Unpacking objects: 100% (91/91), done.\n",
      "Collecting pyquery\n",
      "  Downloading https://files.pythonhosted.org/packages/78/43/95d42e386c61cb639d1a0b94f0c0b9f0b7d6b981ad3c043a836c8b5bc68b/pyquery-1.4.1-py2.py3-none-any.whl\n",
      "Collecting cssselect>0.7.9\n",
      "  Downloading https://files.pythonhosted.org/packages/3b/d4/3b5c17f00cce85b9a1e6f91096e1cc8e8ede2e1be8e96b87ce1ed09e92c5/cssselect-1.1.0-py2.py3-none-any.whl\n",
      "Requirement already satisfied: lxml>=2.1 in /usr/local/lib/python3.6/dist-packages (from pyquery) (4.2.6)\n",
      "Installing collected packages: cssselect, pyquery\n",
      "Successfully installed cssselect-1.1.0 pyquery-1.4.1\n"
     ]
    }
   ],
   "source": [
    "! git clone https://github.com/eleow/Twitter-Get-Old-Tweets-Scraper\n",
    "! pip install pyquery"
   ]
  },
  {
   "cell_type": "code",
   "execution_count": 0,
   "metadata": {
    "colab": {},
    "colab_type": "code",
    "id": "hRBrs-TTUX-r"
   },
   "outputs": [],
   "source": [
    "import os\n",
    "crawler_location='/content/Twitter-Get-Old-Tweets-Scraper/old_tweets_crawler'\n",
    "os.chdir(crawler_location)\n",
    "# os.getcwd()\n",
    "\n",
    "from IPython.display import Audio, display\n",
    "def done():\n",
    "  display(Audio(url=\"https://www.pacdv.com/sounds/miscellaneous_sounds/magic-wand-1.wav\", autoplay=True))"
   ]
  },
  {
   "cell_type": "code",
   "execution_count": 4,
   "metadata": {
    "colab": {
     "base_uri": "https://localhost:8080/",
     "height": 125
    },
    "colab_type": "code",
    "executionInfo": {
     "elapsed": 21685,
     "status": "ok",
     "timestamp": 1586153648148,
     "user": {
      "displayName": "Edmund Leow",
      "photoUrl": "https://lh3.googleusercontent.com/a-/AOh14Gh_HoCvN4oQ-ZDVKbdVNE6D644AKure9xRaqmQryA=s64",
      "userId": "07683038191893357409"
     },
     "user_tz": -480
    },
    "id": "hGQX4L_vU79r",
    "outputId": "849f277b-1533-4ef9-e300-b0dae8b0647a"
   },
   "outputs": [
    {
     "name": "stdout",
     "output_type": "stream",
     "text": [
      "Go to this URL in a browser: https://accounts.google.com/o/oauth2/auth?client_id=947318989803-6bn6qk8qdgf4n4g3pfee6491hc0brc4i.apps.googleusercontent.com&redirect_uri=urn%3aietf%3awg%3aoauth%3a2.0%3aoob&response_type=code&scope=email%20https%3a%2f%2fwww.googleapis.com%2fauth%2fdocs.test%20https%3a%2f%2fwww.googleapis.com%2fauth%2fdrive%20https%3a%2f%2fwww.googleapis.com%2fauth%2fdrive.photos.readonly%20https%3a%2f%2fwww.googleapis.com%2fauth%2fpeopleapi.readonly\n",
      "\n",
      "Enter your authorization code:\n",
      "··········\n",
      "Mounted at /content/drive\n"
     ]
    }
   ],
   "source": [
    "try:\n",
    "    import google.colab\n",
    "    IN_COLAB = True\n",
    "    \n",
    "    from google.colab import drive\n",
    "    drive.mount('/content/drive')\n",
    "\n",
    "    # import os\n",
    "    # os.chdir('/content/drive/My Drive/Colab Notebooks/RoboAdvisor')\n",
    "    # print('Working directory changed to ' + os.getcwd())  \n",
    "\n",
    "except:\n",
    "    IN_COLAB = False"
   ]
  },
  {
   "cell_type": "markdown",
   "metadata": {
    "colab_type": "text",
    "id": "w6UBYoPsh5pa"
   },
   "source": [
    "## Set variables and run\n",
    "Note that time that Twitter returns is dependent on your system time!"
   ]
  },
  {
   "cell_type": "code",
   "execution_count": 16,
   "metadata": {
    "colab": {
     "base_uri": "https://localhost:8080/",
     "height": 34
    },
    "colab_type": "code",
    "executionInfo": {
     "elapsed": 3593,
     "status": "ok",
     "timestamp": 1586159386590,
     "user": {
      "displayName": "Edmund Leow",
      "photoUrl": "https://lh3.googleusercontent.com/a-/AOh14Gh_HoCvN4oQ-ZDVKbdVNE6D644AKure9xRaqmQryA=s64",
      "userId": "07683038191893357409"
     },
     "user_tz": -480
    },
    "id": "hsRp6-QudluP",
    "outputId": "15555167-d0ce-4ae8-f8f3-970ad719ea55"
   },
   "outputs": [
    {
     "name": "stdout",
     "output_type": "stream",
     "text": [
      "Timezone: UTC (UTC+0000)\n"
     ]
    }
   ],
   "source": [
    "!date +\"Timezone: %Z (UTC%z)\""
   ]
  },
  {
   "cell_type": "code",
   "execution_count": 0,
   "metadata": {
    "colab": {},
    "colab_type": "code",
    "id": "XHdrLOyXZR93"
   },
   "outputs": [],
   "source": [
    "# from datetime import datetime\n",
    "# postfix=datetime.today().strftime(\"%Y_%m_%d_%H%M%S\")\n",
    "\n",
    "#@title Input Variables\n",
    "output_path=\"'/content/drive/My Drive/Colab Notebooks/RoboAdvisor/notebooks'\" #@param\n",
    "num_tweets=100000 #@param {type:\"slider\", min:0, max:100000, step:100}\n",
    "username=\"CNBC\" #@param [\"CNBC\", \"LiveSquawk\", \"RANSquawk\", \"benzinga\", \"realDonaldTrump\"] {allow-input:true}\n",
    "since=\"2010-04-25\" #@param {type:\"date\"}\n",
    "to=\"2020-04-06\" #@param {type:\"date\"}\n",
    "\n",
    "output=output_path + \"/tweets_\"+username+\"_\"+to+\".csv\""
   ]
  },
  {
   "cell_type": "code",
   "execution_count": 8,
   "metadata": {
    "colab": {
     "base_uri": "https://localhost:8080/",
     "height": 1000
    },
    "colab_type": "code",
    "executionInfo": {
     "elapsed": 505918,
     "status": "ok",
     "timestamp": 1586155325172,
     "user": {
      "displayName": "Edmund Leow",
      "photoUrl": "https://lh3.googleusercontent.com/a-/AOh14Gh_HoCvN4oQ-ZDVKbdVNE6D644AKure9xRaqmQryA=s64",
      "userId": "07683038191893357409"
     },
     "user_tz": -480
    },
    "id": "WKnPGY6nf8fL",
    "outputId": "a35c8767-8a80-4e13-8f3d-4685f8d6dbb2"
   },
   "outputs": [
    {
     "name": "stdout",
     "output_type": "stream",
     "text": [
      "100 tweets added to file\n",
      "100 tweets added to file\n",
      "100 tweets added to file\n",
      "100 tweets added to file\n",
      "100 tweets added to file\n",
      "100 tweets added to file\n",
      "100 tweets added to file\n",
      "100 tweets added to file\n",
      "100 tweets added to file\n",
      "100 tweets added to file\n",
      "100 tweets added to file\n",
      "100 tweets added to file\n",
      "100 tweets added to file\n",
      "100 tweets added to file\n",
      "100 tweets added to file\n",
      "100 tweets added to file\n",
      "100 tweets added to file\n",
      "100 tweets added to file\n",
      "100 tweets added to file\n",
      "100 tweets added to file\n",
      "100 tweets added to file\n",
      "100 tweets added to file\n",
      "100 tweets added to file\n",
      "100 tweets added to file\n",
      "100 tweets added to file\n",
      "100 tweets added to file\n",
      "100 tweets added to file\n",
      "100 tweets added to file\n",
      "100 tweets added to file\n",
      "100 tweets added to file\n",
      "100 tweets added to file\n",
      "100 tweets added to file\n",
      "100 tweets added to file\n",
      "100 tweets added to file\n",
      "100 tweets added to file\n",
      "100 tweets added to file\n",
      "100 tweets added to file\n",
      "100 tweets added to file\n",
      "100 tweets added to file\n",
      "100 tweets added to file\n",
      "100 tweets added to file\n",
      "100 tweets added to file\n",
      "100 tweets added to file\n",
      "100 tweets added to file\n",
      "100 tweets added to file\n",
      "100 tweets added to file\n",
      "100 tweets added to file\n",
      "100 tweets added to file\n",
      "100 tweets added to file\n",
      "100 tweets added to file\n",
      "100 tweets added to file\n",
      "100 tweets added to file\n",
      "100 tweets added to file\n",
      "100 tweets added to file\n",
      "100 tweets added to file\n",
      "100 tweets added to file\n",
      "100 tweets added to file\n",
      "100 tweets added to file\n",
      "100 tweets added to file\n",
      "100 tweets added to file\n",
      "100 tweets added to file\n",
      "100 tweets added to file\n",
      "100 tweets added to file\n",
      "100 tweets added to file\n",
      "100 tweets added to file\n",
      "100 tweets added to file\n",
      "100 tweets added to file\n",
      "100 tweets added to file\n",
      "100 tweets added to file\n",
      "100 tweets added to file\n",
      "100 tweets added to file\n",
      "100 tweets added to file\n",
      "100 tweets added to file\n",
      "100 tweets added to file\n",
      "100 tweets added to file\n",
      "100 tweets added to file\n",
      "100 tweets added to file\n",
      "100 tweets added to file\n",
      "100 tweets added to file\n",
      "100 tweets added to file\n",
      "100 tweets added to file\n",
      "100 tweets added to file\n",
      "100 tweets added to file\n",
      "100 tweets added to file\n",
      "100 tweets added to file\n",
      "100 tweets added to file\n",
      "100 tweets added to file\n",
      "100 tweets added to file\n",
      "100 tweets added to file\n",
      "100 tweets added to file\n",
      "100 tweets added to file\n",
      "100 tweets added to file\n",
      "100 tweets added to file\n",
      "100 tweets added to file\n",
      "100 tweets added to file\n",
      "100 tweets added to file\n",
      "100 tweets added to file\n",
      "100 tweets added to file\n",
      "100 tweets added to file\n",
      "100 tweets added to file\n",
      "100 tweets added to file\n",
      "100 tweets added to file\n",
      "100 tweets added to file\n",
      "100 tweets added to file\n",
      "100 tweets added to file\n",
      "100 tweets added to file\n",
      "100 tweets added to file\n",
      "100 tweets added to file\n",
      "100 tweets added to file\n",
      "100 tweets added to file\n",
      "100 tweets added to file\n",
      "100 tweets added to file\n",
      "100 tweets added to file\n",
      "100 tweets added to file\n",
      "100 tweets added to file\n",
      "100 tweets added to file\n",
      "100 tweets added to file\n",
      "100 tweets added to file\n",
      "100 tweets added to file\n",
      "100 tweets added to file\n",
      "100 tweets added to file\n",
      "100 tweets added to file\n",
      "100 tweets added to file\n",
      "100 tweets added to file\n",
      "100 tweets added to file\n",
      "100 tweets added to file\n",
      "100 tweets added to file\n",
      "100 tweets added to file\n",
      "100 tweets added to file\n",
      "100 tweets added to file\n",
      "100 tweets added to file\n",
      "100 tweets added to file\n",
      "100 tweets added to file\n",
      "100 tweets added to file\n",
      "100 tweets added to file\n",
      "100 tweets added to file\n",
      "100 tweets added to file\n",
      "100 tweets added to file\n",
      "100 tweets added to file\n",
      "100 tweets added to file\n",
      "100 tweets added to file\n",
      "100 tweets added to file\n",
      "Sorry, die Anzahl deiner Anfragen ist begrenzt.\n",
      "88 tweets added to file\n",
      "Total results: 14288\n",
      "INFO:main.py:Finished scraping data. Output file generated /content/drive/My Drive/Colab Notebooks/RoboAdvisor/tweets_CNBC_2020-04-06.csv with 14288 tweets\n"
     ]
    },
    {
     "data": {
      "text/html": [
       "\n",
       "                <audio controls=\"controls\" autoplay=\"autoplay\">\n",
       "                    <source src=\"https://www.pacdv.com/sounds/miscellaneous_sounds/magic-wand-1.wav\" type=\"audio/x-wav\" />\n",
       "                    Your browser does not support the audio element.\n",
       "                </audio>\n",
       "              "
      ],
      "text/plain": [
       "<IPython.lib.display.Audio object>"
      ]
     },
     "metadata": {
      "tags": []
     },
     "output_type": "display_data"
    }
   ],
   "source": [
    "!python main.py --username $username --max-tweets $num_tweets --query \"\" --output-file $output --since $since --until $to\n",
    "done()"
   ]
  },
  {
   "cell_type": "markdown",
   "metadata": {
    "colab_type": "text",
    "id": "5Xm7-Qleh9ff"
   },
   "source": [
    "## Download File from Google Colab"
   ]
  },
  {
   "cell_type": "code",
   "execution_count": 0,
   "metadata": {
    "colab": {},
    "colab_type": "code",
    "id": "VPu3xbMJga30"
   },
   "outputs": [],
   "source": [
    "from google.colab import files\n",
    "files.download(output.replace('\\'','')) "
   ]
  }
 ],
 "metadata": {
  "colab": {
   "collapsed_sections": [],
   "name": "GetTwitterData.ipynb",
   "provenance": [],
   "toc_visible": true
  },
  "hide_input": false,
  "kernelspec": {
   "display_name": "Python 3",
   "language": "python",
   "name": "python3"
  },
  "language_info": {
   "codemirror_mode": {
    "name": "ipython",
    "version": 3
   },
   "file_extension": ".py",
   "mimetype": "text/x-python",
   "name": "python",
   "nbconvert_exporter": "python",
   "pygments_lexer": "ipython3",
   "version": "3.6.9"
  },
  "toc": {
   "base_numbering": 1,
   "nav_menu": {},
   "number_sections": true,
   "sideBar": true,
   "skip_h1_title": false,
   "title_cell": "Table of Contents",
   "title_sidebar": "Contents",
   "toc_cell": false,
   "toc_position": {},
   "toc_section_display": true,
   "toc_window_display": true
  },
  "varInspector": {
   "cols": {
    "lenName": 16,
    "lenType": 16,
    "lenVar": 40
   },
   "kernels_config": {
    "python": {
     "delete_cmd_postfix": "",
     "delete_cmd_prefix": "del ",
     "library": "var_list.py",
     "varRefreshCmd": "print(var_dic_list())"
    },
    "r": {
     "delete_cmd_postfix": ") ",
     "delete_cmd_prefix": "rm(",
     "library": "var_list.r",
     "varRefreshCmd": "cat(var_dic_list()) "
    }
   },
   "types_to_exclude": [
    "module",
    "function",
    "builtin_function_or_method",
    "instance",
    "_Feature"
   ],
   "window_display": false
  }
 },
 "nbformat": 4,
 "nbformat_minor": 1
}
